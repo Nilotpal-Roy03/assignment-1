{
 "cells": [
  {
   "cell_type": "code",
   "execution_count": 3,
   "id": "aaa8751b-ef78-451f-8a16-a976fca11d27",
   "metadata": {},
   "outputs": [
    {
     "name": "stdout",
     "output_type": "stream",
     "text": [
      "10 15\n",
      "15 10\n"
     ]
    }
   ],
   "source": [
    "x=10\n",
    "y=15\n",
    "print(x, y)\n",
    "x=x+y\n",
    "y=x-y\n",
    "x=x-y\n",
    "print(x, y)"
   ]
  },
  {
   "cell_type": "code",
   "execution_count": 4,
   "id": "3a3b228f-af39-4377-bf56-b634da2439bc",
   "metadata": {},
   "outputs": [
    {
     "name": "stdin",
     "output_type": "stream",
     "text": [
      "enter the length 10\n",
      "enter the breath 10\n"
     ]
    },
    {
     "name": "stdout",
     "output_type": "stream",
     "text": [
      "area 100.0\n"
     ]
    }
   ],
   "source": [
    "length = float(input(\"enter the length\"))\n",
    "breath = float(input(\"enter the breath\"))\n",
    "area= length * breath\n",
    "print(\"area\", area)"
   ]
  },
  {
   "cell_type": "code",
   "execution_count": 5,
   "id": "bc456cf4-06c5-4fe4-8383-e4e9e1b2ae2a",
   "metadata": {},
   "outputs": [
    {
     "name": "stdin",
     "output_type": "stream",
     "text": [
      " enter the temperature in celcius 37\n"
     ]
    },
    {
     "name": "stdout",
     "output_type": "stream",
     "text": [
      "temperature in fahernhiet 98.6\n"
     ]
    }
   ],
   "source": [
    "celcius= float (input(\" enter the temperature in celcius\"))\n",
    "fahernhiet = (celcius * 9/5) +32\n",
    "print(\"temperature in fahernhiet\", fahernhiet)"
   ]
  },
  {
   "cell_type": "code",
   "execution_count": 6,
   "id": "bdbdfd27-91f8-4d03-ac01-1a7570aa634d",
   "metadata": {},
   "outputs": [
    {
     "name": "stdin",
     "output_type": "stream",
     "text": [
      "enter a string nilotpal\n"
     ]
    },
    {
     "name": "stdout",
     "output_type": "stream",
     "text": [
      "length of the string is :  8\n"
     ]
    }
   ],
   "source": [
    "string=input(\"enter a string\")\n",
    "print(\"length of the string is : \", len(string))"
   ]
  },
  {
   "cell_type": "code",
   "execution_count": 13,
   "id": "d7efedc3-0fb1-4cf7-b149-000f148f9781",
   "metadata": {},
   "outputs": [
    {
     "name": "stdin",
     "output_type": "stream",
     "text": [
      "enter a sentence my name is nilotpal roy\n"
     ]
    },
    {
     "name": "stdout",
     "output_type": "stream",
     "text": [
      "total number of vowel 7\n"
     ]
    }
   ],
   "source": [
    "sentence=input(\"enter a sentence\")\n",
    "c=0\n",
    "s=sentence.lower()\n",
    "for i in range (0, len(s)):\n",
    "    if (s[i]==\"a\" or s[i]==\"e\" or s[i]==\"i\" or s[i]==\"o\" or s[i]==\"u\"):\n",
    "        c=c+1\n",
    "print(\"total number of vowel\", c)"
   ]
  },
  {
   "cell_type": "code",
   "execution_count": 14,
   "id": "2b43f62c-fb61-4802-b75e-323e66f75624",
   "metadata": {},
   "outputs": [
    {
     "name": "stdin",
     "output_type": "stream",
     "text": [
      "enter a string apple\n"
     ]
    },
    {
     "name": "stdout",
     "output_type": "stream",
     "text": [
      "reverse string elppa\n"
     ]
    }
   ],
   "source": [
    "string=input(\"enter a string\")\n",
    "print(\"reverse string\", string[::-1])"
   ]
  },
  {
   "cell_type": "code",
   "execution_count": 17,
   "id": "e1c61e21-5608-4484-97c7-be9f01f1f206",
   "metadata": {},
   "outputs": [
    {
     "name": "stdin",
     "output_type": "stream",
     "text": [
      "enter a string adda\n"
     ]
    },
    {
     "name": "stdout",
     "output_type": "stream",
     "text": [
      "palindrome\n"
     ]
    }
   ],
   "source": [
    "string=input(\"enter a string\")\n",
    "reverse=string[::-1]\n",
    "if (string== reverse):\n",
    "    print(\"palindrome\")\n",
    "else:\n",
    "    print(\"not palindrome\")"
   ]
  },
  {
   "cell_type": "code",
   "execution_count": 19,
   "id": "cf2194f9-70a2-44ec-a076-d1432a458419",
   "metadata": {},
   "outputs": [
    {
     "name": "stdin",
     "output_type": "stream",
     "text": [
      "enter a string p w\n"
     ]
    },
    {
     "name": "stdout",
     "output_type": "stream",
     "text": [
      "string without space :  pw\n"
     ]
    }
   ],
   "source": [
    "string=input(\"enter a string\")\n",
    "print(\"string without space : \" ,string.replace(\" \", \"\"))"
   ]
  },
  {
   "cell_type": "code",
   "execution_count": null,
   "id": "7a0b5705-a907-48f0-93a9-a1823d7c3b04",
   "metadata": {},
   "outputs": [],
   "source": []
  }
 ],
 "metadata": {
  "kernelspec": {
   "display_name": "Python 3 (ipykernel)",
   "language": "python",
   "name": "python3"
  },
  "language_info": {
   "codemirror_mode": {
    "name": "ipython",
    "version": 3
   },
   "file_extension": ".py",
   "mimetype": "text/x-python",
   "name": "python",
   "nbconvert_exporter": "python",
   "pygments_lexer": "ipython3",
   "version": "3.10.8"
  }
 },
 "nbformat": 4,
 "nbformat_minor": 5
}
